{
 "cells": [
  {
   "cell_type": "markdown",
   "metadata": {},
   "source": [
    "# 목욕장 전처리"
   ]
  },
  {
   "cell_type": "code",
   "execution_count": 1,
   "metadata": {},
   "outputs": [],
   "source": [
    "import pandas as pd\n",
    "import numpy as np\n",
    "pd.set_option(\"display.max_rows\", 100, \"display.max_columns\", 100)"
   ]
  },
  {
   "cell_type": "code",
   "execution_count": 2,
   "metadata": {},
   "outputs": [],
   "source": [
    "PATH = 'G:/다른 컴퓨터/My_desktop/project/데이터 분석 프로젝트/이노포스트/data/04_목욕장/'"
   ]
  },
  {
   "cell_type": "code",
   "execution_count": 3,
   "metadata": {},
   "outputs": [
    {
     "name": "stderr",
     "output_type": "stream",
     "text": [
      "C:\\Users\\Helpe\\AppData\\Local\\Temp\\ipykernel_1616\\2372193476.py:1: DtypeWarning: Columns (40) have mixed types. Specify dtype option on import or set low_memory=False.\n",
      "  df = pd.read_csv(PATH + '목욕장업.csv', encoding='cp949')\n"
     ]
    }
   ],
   "source": [
    "df = pd.read_csv(PATH + '목욕장업.csv', encoding='cp949')"
   ]
  },
  {
   "cell_type": "code",
   "execution_count": 4,
   "metadata": {},
   "outputs": [
    {
     "data": {
      "text/plain": [
       "(17190, 51)"
      ]
     },
     "execution_count": 4,
     "metadata": {},
     "output_type": "execute_result"
    }
   ],
   "source": [
    "df.shape"
   ]
  },
  {
   "cell_type": "code",
   "execution_count": 5,
   "metadata": {},
   "outputs": [
    {
     "data": {
      "text/html": [
       "<div>\n",
       "<style scoped>\n",
       "    .dataframe tbody tr th:only-of-type {\n",
       "        vertical-align: middle;\n",
       "    }\n",
       "\n",
       "    .dataframe tbody tr th {\n",
       "        vertical-align: top;\n",
       "    }\n",
       "\n",
       "    .dataframe thead th {\n",
       "        text-align: right;\n",
       "    }\n",
       "</style>\n",
       "<table border=\"1\" class=\"dataframe\">\n",
       "  <thead>\n",
       "    <tr style=\"text-align: right;\">\n",
       "      <th></th>\n",
       "      <th>번호</th>\n",
       "      <th>개방서비스명</th>\n",
       "      <th>개방서비스아이디</th>\n",
       "      <th>개방자치단체코드</th>\n",
       "      <th>관리번호</th>\n",
       "      <th>인허가일자</th>\n",
       "      <th>인허가취소일자</th>\n",
       "      <th>영업상태구분코드</th>\n",
       "      <th>영업상태명</th>\n",
       "      <th>상세영업상태코드</th>\n",
       "      <th>상세영업상태명</th>\n",
       "      <th>폐업일자</th>\n",
       "      <th>휴업시작일자</th>\n",
       "      <th>휴업종료일자</th>\n",
       "      <th>재개업일자</th>\n",
       "      <th>소재지전화</th>\n",
       "      <th>소재지면적</th>\n",
       "      <th>소재지우편번호</th>\n",
       "      <th>소재지전체주소</th>\n",
       "      <th>도로명전체주소</th>\n",
       "      <th>도로명우편번호</th>\n",
       "      <th>사업장명</th>\n",
       "      <th>최종수정시점</th>\n",
       "      <th>데이터갱신구분</th>\n",
       "      <th>데이터갱신일자</th>\n",
       "      <th>업태구분명</th>\n",
       "      <th>좌표정보(x)</th>\n",
       "      <th>좌표정보(y)</th>\n",
       "      <th>위생업태명</th>\n",
       "      <th>건물지상층수</th>\n",
       "      <th>건물지하층수</th>\n",
       "      <th>사용시작지상층</th>\n",
       "      <th>사용끝지상층</th>\n",
       "      <th>사용시작지하층</th>\n",
       "      <th>사용끝지하층</th>\n",
       "      <th>한실수</th>\n",
       "      <th>양실수</th>\n",
       "      <th>욕실수</th>\n",
       "      <th>발한실여부</th>\n",
       "      <th>의자수</th>\n",
       "      <th>조건부허가신고사유</th>\n",
       "      <th>조건부허가시작일자</th>\n",
       "      <th>조건부허가종료일자</th>\n",
       "      <th>건물소유구분명</th>\n",
       "      <th>세탁기수</th>\n",
       "      <th>여성종사자수</th>\n",
       "      <th>남성종사자수</th>\n",
       "      <th>회수건조수</th>\n",
       "      <th>침대수</th>\n",
       "      <th>다중이용업소여부</th>\n",
       "      <th>Unnamed: 50</th>\n",
       "    </tr>\n",
       "  </thead>\n",
       "  <tbody>\n",
       "    <tr>\n",
       "      <th>0</th>\n",
       "      <td>1</td>\n",
       "      <td>목욕장업</td>\n",
       "      <td>11_44_01_P</td>\n",
       "      <td>5220000</td>\n",
       "      <td>5220000-202-2012-00005</td>\n",
       "      <td>20120726</td>\n",
       "      <td>NaN</td>\n",
       "      <td>1</td>\n",
       "      <td>영업/정상</td>\n",
       "      <td>1</td>\n",
       "      <td>영업</td>\n",
       "      <td>NaN</td>\n",
       "      <td>NaN</td>\n",
       "      <td>NaN</td>\n",
       "      <td>NaN</td>\n",
       "      <td>054 974 8383</td>\n",
       "      <td>349.46</td>\n",
       "      <td>718832.0</td>\n",
       "      <td>경상북도 칠곡군 석적읍 반계리 71-4번지</td>\n",
       "      <td>경상북도 칠곡군 석적읍 호국로 582-2</td>\n",
       "      <td>39848.0</td>\n",
       "      <td>반계숯가마찜질방</td>\n",
       "      <td>20120726132906</td>\n",
       "      <td>I</td>\n",
       "      <td>2018-08-31 23:59:59.0</td>\n",
       "      <td>찜질시설서비스영업</td>\n",
       "      <td>329518.461747</td>\n",
       "      <td>282201.682569</td>\n",
       "      <td>찜질시설서비스영업</td>\n",
       "      <td>2.0</td>\n",
       "      <td>0.0</td>\n",
       "      <td>1.0</td>\n",
       "      <td>2.0</td>\n",
       "      <td>NaN</td>\n",
       "      <td>NaN</td>\n",
       "      <td>0.0</td>\n",
       "      <td>0.0</td>\n",
       "      <td>2.0</td>\n",
       "      <td>Y</td>\n",
       "      <td>0.0</td>\n",
       "      <td>NaN</td>\n",
       "      <td>NaN</td>\n",
       "      <td>NaN</td>\n",
       "      <td>자가</td>\n",
       "      <td>0.0</td>\n",
       "      <td>NaN</td>\n",
       "      <td>NaN</td>\n",
       "      <td>0.0</td>\n",
       "      <td>0.0</td>\n",
       "      <td>N</td>\n",
       "      <td>NaN</td>\n",
       "    </tr>\n",
       "    <tr>\n",
       "      <th>1</th>\n",
       "      <td>2</td>\n",
       "      <td>목욕장업</td>\n",
       "      <td>11_44_01_P</td>\n",
       "      <td>5220000</td>\n",
       "      <td>5220000-202-2012-00006</td>\n",
       "      <td>20120824</td>\n",
       "      <td>NaN</td>\n",
       "      <td>1</td>\n",
       "      <td>영업/정상</td>\n",
       "      <td>1</td>\n",
       "      <td>영업</td>\n",
       "      <td>NaN</td>\n",
       "      <td>NaN</td>\n",
       "      <td>NaN</td>\n",
       "      <td>NaN</td>\n",
       "      <td>NaN</td>\n",
       "      <td>489.79</td>\n",
       "      <td>718852.0</td>\n",
       "      <td>경상북도 칠곡군 기산면 행정리 47-2번지</td>\n",
       "      <td>경상북도 칠곡군 기산면 선노로 1082</td>\n",
       "      <td>39915.0</td>\n",
       "      <td>무시로장수마을찜질방</td>\n",
       "      <td>20161025095418</td>\n",
       "      <td>I</td>\n",
       "      <td>2018-08-31 23:59:59.0</td>\n",
       "      <td>찜질시설서비스영업</td>\n",
       "      <td>325101.041208</td>\n",
       "      <td>275060.260588</td>\n",
       "      <td>찜질시설서비스영업</td>\n",
       "      <td>1.0</td>\n",
       "      <td>0.0</td>\n",
       "      <td>1.0</td>\n",
       "      <td>1.0</td>\n",
       "      <td>NaN</td>\n",
       "      <td>NaN</td>\n",
       "      <td>0.0</td>\n",
       "      <td>0.0</td>\n",
       "      <td>0.0</td>\n",
       "      <td>Y</td>\n",
       "      <td>0.0</td>\n",
       "      <td>NaN</td>\n",
       "      <td>NaN</td>\n",
       "      <td>NaN</td>\n",
       "      <td>임대</td>\n",
       "      <td>0.0</td>\n",
       "      <td>NaN</td>\n",
       "      <td>NaN</td>\n",
       "      <td>0.0</td>\n",
       "      <td>0.0</td>\n",
       "      <td>N</td>\n",
       "      <td>NaN</td>\n",
       "    </tr>\n",
       "  </tbody>\n",
       "</table>\n",
       "</div>"
      ],
      "text/plain": [
       "   번호 개방서비스명    개방서비스아이디  개방자치단체코드                    관리번호     인허가일자  인허가취소일자  \\\n",
       "0   1   목욕장업  11_44_01_P   5220000  5220000-202-2012-00005  20120726      NaN   \n",
       "1   2   목욕장업  11_44_01_P   5220000  5220000-202-2012-00006  20120824      NaN   \n",
       "\n",
       "   영업상태구분코드  영업상태명  상세영업상태코드 상세영업상태명  폐업일자  휴업시작일자  휴업종료일자  재개업일자  \\\n",
       "0         1  영업/정상         1      영업   NaN     NaN     NaN    NaN   \n",
       "1         1  영업/정상         1      영업   NaN     NaN     NaN    NaN   \n",
       "\n",
       "          소재지전화   소재지면적   소재지우편번호                  소재지전체주소  \\\n",
       "0  054 974 8383  349.46  718832.0  경상북도 칠곡군 석적읍 반계리 71-4번지   \n",
       "1           NaN  489.79  718852.0  경상북도 칠곡군 기산면 행정리 47-2번지   \n",
       "\n",
       "                  도로명전체주소  도로명우편번호        사업장명          최종수정시점 데이터갱신구분  \\\n",
       "0  경상북도 칠곡군 석적읍 호국로 582-2  39848.0    반계숯가마찜질방  20120726132906       I   \n",
       "1   경상북도 칠곡군 기산면 선노로 1082  39915.0  무시로장수마을찜질방  20161025095418       I   \n",
       "\n",
       "                 데이터갱신일자      업태구분명        좌표정보(x)        좌표정보(y)      위생업태명  \\\n",
       "0  2018-08-31 23:59:59.0  찜질시설서비스영업  329518.461747  282201.682569  찜질시설서비스영업   \n",
       "1  2018-08-31 23:59:59.0  찜질시설서비스영업  325101.041208  275060.260588  찜질시설서비스영업   \n",
       "\n",
       "   건물지상층수  건물지하층수  사용시작지상층  사용끝지상층  사용시작지하층  사용끝지하층  한실수  양실수  욕실수 발한실여부  의자수  \\\n",
       "0     2.0     0.0      1.0     2.0      NaN     NaN  0.0  0.0  2.0     Y  0.0   \n",
       "1     1.0     0.0      1.0     1.0      NaN     NaN  0.0  0.0  0.0     Y  0.0   \n",
       "\n",
       "  조건부허가신고사유  조건부허가시작일자  조건부허가종료일자 건물소유구분명  세탁기수  여성종사자수  남성종사자수  회수건조수  침대수  \\\n",
       "0       NaN        NaN        NaN      자가   0.0     NaN     NaN    0.0  0.0   \n",
       "1       NaN        NaN        NaN      임대   0.0     NaN     NaN    0.0  0.0   \n",
       "\n",
       "  다중이용업소여부  Unnamed: 50  \n",
       "0        N          NaN  \n",
       "1        N          NaN  "
      ]
     },
     "execution_count": 5,
     "metadata": {},
     "output_type": "execute_result"
    }
   ],
   "source": [
    "df.head(2)"
   ]
  },
  {
   "cell_type": "code",
   "execution_count": 6,
   "metadata": {},
   "outputs": [
    {
     "data": {
      "text/plain": [
       "Index(['번호', '개방서비스명', '개방서비스아이디', '개방자치단체코드', '관리번호', '인허가일자', '인허가취소일자',\n",
       "       '영업상태구분코드', '영업상태명', '상세영업상태코드', '상세영업상태명', '폐업일자', '휴업시작일자', '휴업종료일자',\n",
       "       '재개업일자', '소재지전화', '소재지면적', '소재지우편번호', '소재지전체주소', '도로명전체주소', '도로명우편번호',\n",
       "       '사업장명', '최종수정시점', '데이터갱신구분', '데이터갱신일자', '업태구분명', '좌표정보(x)', '좌표정보(y)',\n",
       "       '위생업태명', '건물지상층수', '건물지하층수', '사용시작지상층', '사용끝지상층', '사용시작지하층', '사용끝지하층',\n",
       "       '한실수', '양실수', '욕실수', '발한실여부', '의자수', '조건부허가신고사유', '조건부허가시작일자',\n",
       "       '조건부허가종료일자', '건물소유구분명', '세탁기수', '여성종사자수', '남성종사자수', '회수건조수', '침대수',\n",
       "       '다중이용업소여부', 'Unnamed: 50'],\n",
       "      dtype='object')"
      ]
     },
     "execution_count": 6,
     "metadata": {},
     "output_type": "execute_result"
    }
   ],
   "source": [
    "df.columns"
   ]
  },
  {
   "cell_type": "code",
   "execution_count": 7,
   "metadata": {},
   "outputs": [
    {
     "data": {
      "text/plain": [
       "번호                 0\n",
       "개방서비스명             0\n",
       "개방서비스아이디           0\n",
       "개방자치단체코드           0\n",
       "관리번호               0\n",
       "인허가일자              0\n",
       "인허가취소일자        17190\n",
       "영업상태구분코드           0\n",
       "영업상태명              0\n",
       "상세영업상태코드           0\n",
       "상세영업상태명            0\n",
       "폐업일자            6316\n",
       "휴업시작일자         17190\n",
       "휴업종료일자         17190\n",
       "재개업일자          17190\n",
       "소재지전화           1270\n",
       "소재지면적             44\n",
       "소재지우편번호          482\n",
       "소재지전체주소           21\n",
       "도로명전체주소         7682\n",
       "도로명우편번호         7960\n",
       "사업장명               0\n",
       "최종수정시점             0\n",
       "데이터갱신구분            0\n",
       "데이터갱신일자            0\n",
       "업태구분명              0\n",
       "좌표정보(x)         1208\n",
       "좌표정보(y)         1208\n",
       "위생업태명              0\n",
       "건물지상층수          4272\n",
       "건물지하층수          5458\n",
       "사용시작지상층         5783\n",
       "사용끝지상층          8587\n",
       "사용시작지하층         7737\n",
       "사용끝지하층         10661\n",
       "한실수             7397\n",
       "양실수             7396\n",
       "욕실수             4729\n",
       "발한실여부             79\n",
       "의자수             7388\n",
       "조건부허가신고사유      17163\n",
       "조건부허가시작일자      17171\n",
       "조건부허가종료일자      17170\n",
       "건물소유구분명        12649\n",
       "세탁기수           10571\n",
       "여성종사자수         15390\n",
       "남성종사자수         15390\n",
       "회수건조수          11271\n",
       "침대수            11328\n",
       "다중이용업소여부           0\n",
       "Unnamed: 50    17190\n",
       "dtype: int64"
      ]
     },
     "execution_count": 7,
     "metadata": {},
     "output_type": "execute_result"
    }
   ],
   "source": [
    "df.isnull().sum()"
   ]
  },
  {
   "cell_type": "markdown",
   "metadata": {},
   "source": [
    "## 1차 컬럼 드랍"
   ]
  },
  {
   "cell_type": "code",
   "execution_count": 8,
   "metadata": {},
   "outputs": [],
   "source": [
    "df_drop1 = df.drop(['인허가일자', # 불필요한 데이터\n",
    "               '인허가취소일자', # 불필요한 데이터\n",
    "               '영업상태명', # 영업상태구분코드로 확인 1이면 정상영업 3이면 폐업\n",
    "               '상세영업상태코드', # 영업상태구분코드로 확인 1이면 정상영업 3이면 폐업\n",
    "               '상세영업상태명', # 영업상태구분코드로 확인 1이면 정상영업 3이면 폐업\n",
    "               '폐업일자', # 불필요한 데이터\n",
    "               '휴업시작일자', # 불필요한 데이터\n",
    "               '휴업종료일자', # 불필요한 데이터\n",
    "               '재개업일자', # 불필요한 데이터\n",
    "               '소재지전화', # 불필요한 데이터\n",
    "               '소재지면적', # 불필요한 데이터\n",
    "               '최종수정시점', # 불필요한 데이터\n",
    "               '데이터갱신구분', # 불필요한 데이터\n",
    "               '데이터갱신일자', # 불필요한 데이터\n",
    "               '업태구분명', # 개방서비스명으로 구분\n",
    "               '위생업태명', # 개방서비스명으로 구분\n",
    "               '건물지상층수', # 불필요한 데이터\n",
    "               '건물지하층수', # 불필요한 데이터\n",
    "               '사용시작지상층', # 불필요한 데이터\n",
    "               '사용끝지상층', # 불필요한 데이터\n",
    "               '사용시작지하층', # 불필요한 데이터\n",
    "               '사용끝지하층', # 불필요한 데이터\n",
    "               '한실수', # 불필요한 데이터\n",
    "               '양실수', # 불필요한 데이터\n",
    "               '욕실수', # 불필요한 데이터\n",
    "               '발한실여부', # 불필요한 데이터\n",
    "               '의자수', # 불필요한 데이터\n",
    "               '조건부허가신고사유', # 불필요한 데이터\n",
    "               '조건부허가시작일자', # 불필요한 데이터\n",
    "               '조건부허가종료일자', # 불필요한 데이터\n",
    "               '건물소유구분명', # 불필요한 데이터\n",
    "               '세탁기수', # 불필요한 데이터\n",
    "               '여성종사자수', # 불필요한 데이터\n",
    "               '남성종사자수', # 불필요한 데이터\n",
    "               '회수건조수', # 불필요한 데이터\n",
    "               '침대수', # 불필요한 데이터\n",
    "               '다중이용업소여부', # 불필요한 데이터\n",
    "               'Unnamed: 50' # 불필요한 데이터\n",
    "               ], axis=1)"
   ]
  },
  {
   "cell_type": "code",
   "execution_count": 9,
   "metadata": {},
   "outputs": [
    {
     "name": "stdout",
     "output_type": "stream",
     "text": [
      "<class 'pandas.core.frame.DataFrame'>\n",
      "RangeIndex: 17190 entries, 0 to 17189\n",
      "Data columns (total 13 columns):\n",
      " #   Column    Non-Null Count  Dtype  \n",
      "---  ------    --------------  -----  \n",
      " 0   번호        17190 non-null  int64  \n",
      " 1   개방서비스명    17190 non-null  object \n",
      " 2   개방서비스아이디  17190 non-null  object \n",
      " 3   개방자치단체코드  17190 non-null  int64  \n",
      " 4   관리번호      17190 non-null  object \n",
      " 5   영업상태구분코드  17190 non-null  int64  \n",
      " 6   소재지우편번호   16708 non-null  float64\n",
      " 7   소재지전체주소   17169 non-null  object \n",
      " 8   도로명전체주소   9508 non-null   object \n",
      " 9   도로명우편번호   9230 non-null   float64\n",
      " 10  사업장명      17190 non-null  object \n",
      " 11  좌표정보(x)   15982 non-null  float64\n",
      " 12  좌표정보(y)   15982 non-null  float64\n",
      "dtypes: float64(4), int64(3), object(6)\n",
      "memory usage: 1.7+ MB\n"
     ]
    }
   ],
   "source": [
    "df_drop1.info()"
   ]
  },
  {
   "cell_type": "code",
   "execution_count": 10,
   "metadata": {},
   "outputs": [
    {
     "data": {
      "text/html": [
       "<div>\n",
       "<style scoped>\n",
       "    .dataframe tbody tr th:only-of-type {\n",
       "        vertical-align: middle;\n",
       "    }\n",
       "\n",
       "    .dataframe tbody tr th {\n",
       "        vertical-align: top;\n",
       "    }\n",
       "\n",
       "    .dataframe thead th {\n",
       "        text-align: right;\n",
       "    }\n",
       "</style>\n",
       "<table border=\"1\" class=\"dataframe\">\n",
       "  <thead>\n",
       "    <tr style=\"text-align: right;\">\n",
       "      <th></th>\n",
       "      <th>번호</th>\n",
       "      <th>개방서비스명</th>\n",
       "      <th>개방서비스아이디</th>\n",
       "      <th>개방자치단체코드</th>\n",
       "      <th>관리번호</th>\n",
       "      <th>영업상태구분코드</th>\n",
       "      <th>소재지우편번호</th>\n",
       "      <th>소재지전체주소</th>\n",
       "      <th>도로명전체주소</th>\n",
       "      <th>도로명우편번호</th>\n",
       "      <th>사업장명</th>\n",
       "      <th>좌표정보(x)</th>\n",
       "      <th>좌표정보(y)</th>\n",
       "    </tr>\n",
       "  </thead>\n",
       "  <tbody>\n",
       "    <tr>\n",
       "      <th>0</th>\n",
       "      <td>1</td>\n",
       "      <td>목욕장업</td>\n",
       "      <td>11_44_01_P</td>\n",
       "      <td>5220000</td>\n",
       "      <td>5220000-202-2012-00005</td>\n",
       "      <td>1</td>\n",
       "      <td>718832.0</td>\n",
       "      <td>경상북도 칠곡군 석적읍 반계리 71-4번지</td>\n",
       "      <td>경상북도 칠곡군 석적읍 호국로 582-2</td>\n",
       "      <td>39848.0</td>\n",
       "      <td>반계숯가마찜질방</td>\n",
       "      <td>329518.461747</td>\n",
       "      <td>282201.682569</td>\n",
       "    </tr>\n",
       "    <tr>\n",
       "      <th>1</th>\n",
       "      <td>2</td>\n",
       "      <td>목욕장업</td>\n",
       "      <td>11_44_01_P</td>\n",
       "      <td>5220000</td>\n",
       "      <td>5220000-202-2012-00006</td>\n",
       "      <td>1</td>\n",
       "      <td>718852.0</td>\n",
       "      <td>경상북도 칠곡군 기산면 행정리 47-2번지</td>\n",
       "      <td>경상북도 칠곡군 기산면 선노로 1082</td>\n",
       "      <td>39915.0</td>\n",
       "      <td>무시로장수마을찜질방</td>\n",
       "      <td>325101.041208</td>\n",
       "      <td>275060.260588</td>\n",
       "    </tr>\n",
       "  </tbody>\n",
       "</table>\n",
       "</div>"
      ],
      "text/plain": [
       "   번호 개방서비스명    개방서비스아이디  개방자치단체코드                    관리번호  영업상태구분코드  \\\n",
       "0   1   목욕장업  11_44_01_P   5220000  5220000-202-2012-00005         1   \n",
       "1   2   목욕장업  11_44_01_P   5220000  5220000-202-2012-00006         1   \n",
       "\n",
       "    소재지우편번호                  소재지전체주소                 도로명전체주소  도로명우편번호  \\\n",
       "0  718832.0  경상북도 칠곡군 석적읍 반계리 71-4번지  경상북도 칠곡군 석적읍 호국로 582-2  39848.0   \n",
       "1  718852.0  경상북도 칠곡군 기산면 행정리 47-2번지   경상북도 칠곡군 기산면 선노로 1082  39915.0   \n",
       "\n",
       "         사업장명        좌표정보(x)        좌표정보(y)  \n",
       "0    반계숯가마찜질방  329518.461747  282201.682569  \n",
       "1  무시로장수마을찜질방  325101.041208  275060.260588  "
      ]
     },
     "execution_count": 10,
     "metadata": {},
     "output_type": "execute_result"
    }
   ],
   "source": [
    "df_drop1.head(2)"
   ]
  },
  {
   "cell_type": "code",
   "execution_count": null,
   "metadata": {},
   "outputs": [],
   "source": []
  },
  {
   "cell_type": "markdown",
   "metadata": {},
   "source": [
    "## 폐업한 목욕장 제거"
   ]
  },
  {
   "cell_type": "code",
   "execution_count": 11,
   "metadata": {},
   "outputs": [
    {
     "data": {
      "text/plain": [
       "(6316, 13)"
      ]
     },
     "execution_count": 11,
     "metadata": {},
     "output_type": "execute_result"
    }
   ],
   "source": [
    "df_close = df_drop1['영업상태구분코드'].isin([3])\n",
    "df_close = df_drop1[~df_close]\n",
    "df_close.shape"
   ]
  },
  {
   "cell_type": "markdown",
   "metadata": {},
   "source": [
    "## 대전지역 목욕장만 추출\n",
    "\n",
    "시 정보가 담겨있는 소재지전체주소 & 도로명전체주소에서 대전만 추출함"
   ]
  },
  {
   "cell_type": "code",
   "execution_count": 12,
   "metadata": {},
   "outputs": [
    {
     "name": "stdout",
     "output_type": "stream",
     "text": [
      "14\n",
      "53\n"
     ]
    }
   ],
   "source": [
    "print(df_close['소재지전체주소'].isnull().sum())\n",
    "print(df_close['도로명전체주소'].isnull().sum())"
   ]
  },
  {
   "cell_type": "code",
   "execution_count": 13,
   "metadata": {},
   "outputs": [
    {
     "data": {
      "text/html": [
       "<div>\n",
       "<style scoped>\n",
       "    .dataframe tbody tr th:only-of-type {\n",
       "        vertical-align: middle;\n",
       "    }\n",
       "\n",
       "    .dataframe tbody tr th {\n",
       "        vertical-align: top;\n",
       "    }\n",
       "\n",
       "    .dataframe thead th {\n",
       "        text-align: right;\n",
       "    }\n",
       "</style>\n",
       "<table border=\"1\" class=\"dataframe\">\n",
       "  <thead>\n",
       "    <tr style=\"text-align: right;\">\n",
       "      <th></th>\n",
       "      <th>번호</th>\n",
       "      <th>개방서비스명</th>\n",
       "      <th>개방서비스아이디</th>\n",
       "      <th>개방자치단체코드</th>\n",
       "      <th>관리번호</th>\n",
       "      <th>영업상태구분코드</th>\n",
       "      <th>소재지우편번호</th>\n",
       "      <th>소재지전체주소</th>\n",
       "      <th>도로명전체주소</th>\n",
       "      <th>도로명우편번호</th>\n",
       "      <th>사업장명</th>\n",
       "      <th>좌표정보(x)</th>\n",
       "      <th>좌표정보(y)</th>\n",
       "    </tr>\n",
       "  </thead>\n",
       "  <tbody>\n",
       "  </tbody>\n",
       "</table>\n",
       "</div>"
      ],
      "text/plain": [
       "Empty DataFrame\n",
       "Columns: [번호, 개방서비스명, 개방서비스아이디, 개방자치단체코드, 관리번호, 영업상태구분코드, 소재지우편번호, 소재지전체주소, 도로명전체주소, 도로명우편번호, 사업장명, 좌표정보(x), 좌표정보(y)]\n",
       "Index: []"
      ]
     },
     "execution_count": 13,
     "metadata": {},
     "output_type": "execute_result"
    }
   ],
   "source": [
    "# `소재지지번주소`의 NaN 중 `대전` 지역의 데이터 추출, NaN 중 `소재지전체주소`에서 `대전`인 값\n",
    "df_nan = df_close[df_close['소재지전체주소'].isnull()] # 소재지지번주소에서 NaN 추출\n",
    "df_nan_daejeon = df_nan[df_nan['소재지전체주소'].str.contains('대전', na=False)] # 소재지전체주소에 대전이 있는 값 추출\n",
    "df_nan_daejeon.head() # NaN중 대전소재지는 없음"
   ]
  },
  {
   "cell_type": "code",
   "execution_count": 14,
   "metadata": {},
   "outputs": [
    {
     "data": {
      "text/plain": [
       "array(['경상북', nan, '경상남', '전라북', '충청남', '서울특', '광주광', '전라남', '경기도', '강원도',\n",
       "       '대전광', '대구광', '인천광', '부산광', '충청북', '제주특', '울산광', '세종특'],\n",
       "      dtype=object)"
      ]
     },
     "execution_count": 14,
     "metadata": {},
     "output_type": "execute_result"
    }
   ],
   "source": [
    "df_close['소재지전체주소'].str[:3].unique()"
   ]
  },
  {
   "cell_type": "markdown",
   "metadata": {},
   "source": [
    "대전광역시 형태로만 존재함"
   ]
  },
  {
   "cell_type": "code",
   "execution_count": 15,
   "metadata": {},
   "outputs": [
    {
     "name": "stdout",
     "output_type": "stream",
     "text": [
      "(115, 13)\n"
     ]
    }
   ],
   "source": [
    "df_dj = df_close[df_close['소재지전체주소'].str.contains('대전광역시', na=False)] # 대전광역시만 추출\n",
    "\n",
    "print(df_dj.shape)"
   ]
  },
  {
   "cell_type": "code",
   "execution_count": 16,
   "metadata": {},
   "outputs": [
    {
     "data": {
      "text/html": [
       "<div>\n",
       "<style scoped>\n",
       "    .dataframe tbody tr th:only-of-type {\n",
       "        vertical-align: middle;\n",
       "    }\n",
       "\n",
       "    .dataframe tbody tr th {\n",
       "        vertical-align: top;\n",
       "    }\n",
       "\n",
       "    .dataframe thead th {\n",
       "        text-align: right;\n",
       "    }\n",
       "</style>\n",
       "<table border=\"1\" class=\"dataframe\">\n",
       "  <thead>\n",
       "    <tr style=\"text-align: right;\">\n",
       "      <th></th>\n",
       "      <th>번호</th>\n",
       "      <th>개방서비스명</th>\n",
       "      <th>개방서비스아이디</th>\n",
       "      <th>개방자치단체코드</th>\n",
       "      <th>관리번호</th>\n",
       "      <th>영업상태구분코드</th>\n",
       "      <th>소재지우편번호</th>\n",
       "      <th>소재지전체주소</th>\n",
       "      <th>도로명전체주소</th>\n",
       "      <th>도로명우편번호</th>\n",
       "      <th>사업장명</th>\n",
       "      <th>좌표정보(x)</th>\n",
       "      <th>좌표정보(y)</th>\n",
       "    </tr>\n",
       "  </thead>\n",
       "  <tbody>\n",
       "    <tr>\n",
       "      <th>319</th>\n",
       "      <td>320</td>\n",
       "      <td>목욕장업</td>\n",
       "      <td>11_44_01_P</td>\n",
       "      <td>3670000</td>\n",
       "      <td>3670000-202-2018-00002</td>\n",
       "      <td>1</td>\n",
       "      <td>305301.0</td>\n",
       "      <td>대전광역시 유성구 봉명동 538-1 지상5,6,8층</td>\n",
       "      <td>대전광역시 유성구 계룡로113번길 76, 지상5,6,8층 (봉명동)</td>\n",
       "      <td>34186.0</td>\n",
       "      <td>유성온천불가마사우나</td>\n",
       "      <td>230896.922887</td>\n",
       "      <td>317369.759557</td>\n",
       "    </tr>\n",
       "    <tr>\n",
       "      <th>669</th>\n",
       "      <td>670</td>\n",
       "      <td>목욕장업</td>\n",
       "      <td>11_44_01_P</td>\n",
       "      <td>3650000</td>\n",
       "      <td>3650000-202-2019-00001</td>\n",
       "      <td>1</td>\n",
       "      <td>301835.0</td>\n",
       "      <td>대전광역시 중구 유천동 322-1 현암에버드림아파트 지하1층</td>\n",
       "      <td>대전광역시 중구 태평로44번길 27, 지하1층 (유천동, 현암에버드림아파트)</td>\n",
       "      <td>34887.0</td>\n",
       "      <td>태평제일불가마사우나</td>\n",
       "      <td>235333.477746</td>\n",
       "      <td>313461.387438</td>\n",
       "    </tr>\n",
       "  </tbody>\n",
       "</table>\n",
       "</div>"
      ],
      "text/plain": [
       "      번호 개방서비스명    개방서비스아이디  개방자치단체코드                    관리번호  영업상태구분코드  \\\n",
       "319  320   목욕장업  11_44_01_P   3670000  3670000-202-2018-00002         1   \n",
       "669  670   목욕장업  11_44_01_P   3650000  3650000-202-2019-00001         1   \n",
       "\n",
       "      소재지우편번호                            소재지전체주소  \\\n",
       "319  305301.0       대전광역시 유성구 봉명동 538-1 지상5,6,8층   \n",
       "669  301835.0  대전광역시 중구 유천동 322-1 현암에버드림아파트 지하1층   \n",
       "\n",
       "                                        도로명전체주소  도로명우편번호        사업장명  \\\n",
       "319       대전광역시 유성구 계룡로113번길 76, 지상5,6,8층 (봉명동)  34186.0  유성온천불가마사우나   \n",
       "669  대전광역시 중구 태평로44번길 27, 지하1층 (유천동, 현암에버드림아파트)  34887.0  태평제일불가마사우나   \n",
       "\n",
       "           좌표정보(x)        좌표정보(y)  \n",
       "319  230896.922887  317369.759557  \n",
       "669  235333.477746  313461.387438  "
      ]
     },
     "execution_count": 16,
     "metadata": {},
     "output_type": "execute_result"
    }
   ],
   "source": [
    "df_dj.head(2)"
   ]
  },
  {
   "cell_type": "code",
   "execution_count": 17,
   "metadata": {},
   "outputs": [
    {
     "data": {
      "text/plain": [
       "Index(['번호', '개방서비스명', '개방서비스아이디', '개방자치단체코드', '관리번호', '영업상태구분코드', '소재지우편번호',\n",
       "       '소재지전체주소', '도로명전체주소', '도로명우편번호', '사업장명', '좌표정보(x)', '좌표정보(y)'],\n",
       "      dtype='object')"
      ]
     },
     "execution_count": 17,
     "metadata": {},
     "output_type": "execute_result"
    }
   ],
   "source": [
    "df_dj.columns"
   ]
  },
  {
   "cell_type": "markdown",
   "metadata": {},
   "source": [
    "## 2차 컬럼 삭제"
   ]
  },
  {
   "cell_type": "code",
   "execution_count": 18,
   "metadata": {},
   "outputs": [
    {
     "data": {
      "text/html": [
       "<div>\n",
       "<style scoped>\n",
       "    .dataframe tbody tr th:only-of-type {\n",
       "        vertical-align: middle;\n",
       "    }\n",
       "\n",
       "    .dataframe tbody tr th {\n",
       "        vertical-align: top;\n",
       "    }\n",
       "\n",
       "    .dataframe thead th {\n",
       "        text-align: right;\n",
       "    }\n",
       "</style>\n",
       "<table border=\"1\" class=\"dataframe\">\n",
       "  <thead>\n",
       "    <tr style=\"text-align: right;\">\n",
       "      <th></th>\n",
       "      <th>소재지전체주소</th>\n",
       "      <th>도로명전체주소</th>\n",
       "      <th>사업장명</th>\n",
       "      <th>좌표정보(x)</th>\n",
       "      <th>좌표정보(y)</th>\n",
       "    </tr>\n",
       "  </thead>\n",
       "  <tbody>\n",
       "    <tr>\n",
       "      <th>319</th>\n",
       "      <td>대전광역시 유성구 봉명동 538-1 지상5,6,8층</td>\n",
       "      <td>대전광역시 유성구 계룡로113번길 76, 지상5,6,8층 (봉명동)</td>\n",
       "      <td>유성온천불가마사우나</td>\n",
       "      <td>230896.922887</td>\n",
       "      <td>317369.759557</td>\n",
       "    </tr>\n",
       "    <tr>\n",
       "      <th>669</th>\n",
       "      <td>대전광역시 중구 유천동 322-1 현암에버드림아파트 지하1층</td>\n",
       "      <td>대전광역시 중구 태평로44번길 27, 지하1층 (유천동, 현암에버드림아파트)</td>\n",
       "      <td>태평제일불가마사우나</td>\n",
       "      <td>235333.477746</td>\n",
       "      <td>313461.387438</td>\n",
       "    </tr>\n",
       "  </tbody>\n",
       "</table>\n",
       "</div>"
      ],
      "text/plain": [
       "                               소재지전체주소  \\\n",
       "319       대전광역시 유성구 봉명동 538-1 지상5,6,8층   \n",
       "669  대전광역시 중구 유천동 322-1 현암에버드림아파트 지하1층   \n",
       "\n",
       "                                        도로명전체주소        사업장명        좌표정보(x)  \\\n",
       "319       대전광역시 유성구 계룡로113번길 76, 지상5,6,8층 (봉명동)  유성온천불가마사우나  230896.922887   \n",
       "669  대전광역시 중구 태평로44번길 27, 지하1층 (유천동, 현암에버드림아파트)  태평제일불가마사우나  235333.477746   \n",
       "\n",
       "           좌표정보(y)  \n",
       "319  317369.759557  \n",
       "669  313461.387438  "
      ]
     },
     "execution_count": 18,
     "metadata": {},
     "output_type": "execute_result"
    }
   ],
   "source": [
    "df_drop2 = df_dj.drop(['번호'\n",
    "                       ,'개방서비스명'\n",
    "                       ,'개방서비스아이디'\n",
    "                       ,'개방자치단체코드'\n",
    "                       ,'소재지우편번호'\n",
    "                       ,'도로명우편번호'\n",
    "                       ,'관리번호'\n",
    "                       ,'영업상태구분코드'\n",
    "               ], axis=1)\n",
    "\n",
    "df_drop2.head(2)"
   ]
  },
  {
   "cell_type": "code",
   "execution_count": 19,
   "metadata": {},
   "outputs": [
    {
     "data": {
      "text/html": [
       "<div>\n",
       "<style scoped>\n",
       "    .dataframe tbody tr th:only-of-type {\n",
       "        vertical-align: middle;\n",
       "    }\n",
       "\n",
       "    .dataframe tbody tr th {\n",
       "        vertical-align: top;\n",
       "    }\n",
       "\n",
       "    .dataframe thead th {\n",
       "        text-align: right;\n",
       "    }\n",
       "</style>\n",
       "<table border=\"1\" class=\"dataframe\">\n",
       "  <thead>\n",
       "    <tr style=\"text-align: right;\">\n",
       "      <th></th>\n",
       "      <th>소재지전체주소</th>\n",
       "      <th>도로명전체주소</th>\n",
       "      <th>사업장명</th>\n",
       "      <th>좌표정보(x)</th>\n",
       "      <th>좌표정보(y)</th>\n",
       "    </tr>\n",
       "  </thead>\n",
       "  <tbody>\n",
       "    <tr>\n",
       "      <th>0</th>\n",
       "      <td>대전광역시 유성구 봉명동 538-1 지상5,6,8층</td>\n",
       "      <td>대전광역시 유성구 계룡로113번길 76, 지상5,6,8층 (봉명동)</td>\n",
       "      <td>유성온천불가마사우나</td>\n",
       "      <td>230896.922887</td>\n",
       "      <td>317369.759557</td>\n",
       "    </tr>\n",
       "    <tr>\n",
       "      <th>1</th>\n",
       "      <td>대전광역시 중구 유천동 322-1 현암에버드림아파트 지하1층</td>\n",
       "      <td>대전광역시 중구 태평로44번길 27, 지하1층 (유천동, 현암에버드림아파트)</td>\n",
       "      <td>태평제일불가마사우나</td>\n",
       "      <td>235333.477746</td>\n",
       "      <td>313461.387438</td>\n",
       "    </tr>\n",
       "    <tr>\n",
       "      <th>2</th>\n",
       "      <td>대전광역시 동구 자양동 173-7번지</td>\n",
       "      <td>대전광역시 동구 충정로 115-4 (자양동)</td>\n",
       "      <td>행복한목욕탕</td>\n",
       "      <td>240428.945786</td>\n",
       "      <td>315980.040042</td>\n",
       "    </tr>\n",
       "    <tr>\n",
       "      <th>3</th>\n",
       "      <td>대전광역시 동구 홍도동 64-2 ,4,5</td>\n",
       "      <td>대전광역시 동구 동서대로 1605 (홍도동)</td>\n",
       "      <td>일웅스파렌드</td>\n",
       "      <td>238468.907628</td>\n",
       "      <td>316193.664142</td>\n",
       "    </tr>\n",
       "    <tr>\n",
       "      <th>4</th>\n",
       "      <td>대전광역시 동구 용전동 133-1번지</td>\n",
       "      <td>대전광역시 동구 계족로 448 (용전동)</td>\n",
       "      <td>정암게르마늄사우나</td>\n",
       "      <td>238764.480059</td>\n",
       "      <td>316848.193716</td>\n",
       "    </tr>\n",
       "    <tr>\n",
       "      <th>...</th>\n",
       "      <td>...</td>\n",
       "      <td>...</td>\n",
       "      <td>...</td>\n",
       "      <td>...</td>\n",
       "      <td>...</td>\n",
       "    </tr>\n",
       "    <tr>\n",
       "      <th>110</th>\n",
       "      <td>대전광역시 서구 관저동 1731</td>\n",
       "      <td>대전광역시 서구 도안대로 11, 3,4,5층 (관저동)</td>\n",
       "      <td>관저힐스파2</td>\n",
       "      <td>229962.598148</td>\n",
       "      <td>311380.687232</td>\n",
       "    </tr>\n",
       "    <tr>\n",
       "      <th>111</th>\n",
       "      <td>대전광역시 서구 월평동 916번지 지하,1층,2층</td>\n",
       "      <td>대전광역시 서구 월평로 40, 지하1,2층 (월평동)</td>\n",
       "      <td>백두산사우나</td>\n",
       "      <td>232402.370003</td>\n",
       "      <td>317300.236250</td>\n",
       "    </tr>\n",
       "    <tr>\n",
       "      <th>112</th>\n",
       "      <td>대전광역시 서구 가장동 48-1</td>\n",
       "      <td>대전광역시 서구 가장로 128 (가장동)</td>\n",
       "      <td>백운장목욕탕</td>\n",
       "      <td>234695.119004</td>\n",
       "      <td>314685.621800</td>\n",
       "    </tr>\n",
       "    <tr>\n",
       "      <th>113</th>\n",
       "      <td>대전광역시 서구 둔산동 1181번지 7</td>\n",
       "      <td>대전광역시 서구 둔산로74번길 12, 7층 (둔산동)</td>\n",
       "      <td>새둔산여성전용한증막</td>\n",
       "      <td>234190.767408</td>\n",
       "      <td>316722.386326</td>\n",
       "    </tr>\n",
       "    <tr>\n",
       "      <th>114</th>\n",
       "      <td>대전광역시 서구 가장동 52-1</td>\n",
       "      <td>대전광역시 서구 도산로314번길 19, 3층,4층 (가장동)</td>\n",
       "      <td>주식회사 뉴하이랜드</td>\n",
       "      <td>234839.522838</td>\n",
       "      <td>314801.489817</td>\n",
       "    </tr>\n",
       "  </tbody>\n",
       "</table>\n",
       "<p>115 rows × 5 columns</p>\n",
       "</div>"
      ],
      "text/plain": [
       "                               소재지전체주소  \\\n",
       "0         대전광역시 유성구 봉명동 538-1 지상5,6,8층   \n",
       "1    대전광역시 중구 유천동 322-1 현암에버드림아파트 지하1층   \n",
       "2                 대전광역시 동구 자양동 173-7번지   \n",
       "3               대전광역시 동구 홍도동 64-2 ,4,5   \n",
       "4                 대전광역시 동구 용전동 133-1번지   \n",
       "..                                 ...   \n",
       "110                  대전광역시 서구 관저동 1731   \n",
       "111        대전광역시 서구 월평동 916번지 지하,1층,2층   \n",
       "112                  대전광역시 서구 가장동 48-1   \n",
       "113              대전광역시 서구 둔산동 1181번지 7   \n",
       "114                  대전광역시 서구 가장동 52-1   \n",
       "\n",
       "                                        도로명전체주소        사업장명        좌표정보(x)  \\\n",
       "0         대전광역시 유성구 계룡로113번길 76, 지상5,6,8층 (봉명동)  유성온천불가마사우나  230896.922887   \n",
       "1    대전광역시 중구 태평로44번길 27, 지하1층 (유천동, 현암에버드림아파트)  태평제일불가마사우나  235333.477746   \n",
       "2                      대전광역시 동구 충정로 115-4 (자양동)      행복한목욕탕  240428.945786   \n",
       "3                      대전광역시 동구 동서대로 1605 (홍도동)      일웅스파렌드  238468.907628   \n",
       "4                        대전광역시 동구 계족로 448 (용전동)   정암게르마늄사우나  238764.480059   \n",
       "..                                          ...         ...            ...   \n",
       "110              대전광역시 서구 도안대로 11, 3,4,5층 (관저동)      관저힐스파2  229962.598148   \n",
       "111               대전광역시 서구 월평로 40, 지하1,2층 (월평동)      백두산사우나  232402.370003   \n",
       "112                      대전광역시 서구 가장로 128 (가장동)      백운장목욕탕  234695.119004   \n",
       "113               대전광역시 서구 둔산로74번길 12, 7층 (둔산동)  새둔산여성전용한증막  234190.767408   \n",
       "114           대전광역시 서구 도산로314번길 19, 3층,4층 (가장동)  주식회사 뉴하이랜드  234839.522838   \n",
       "\n",
       "           좌표정보(y)  \n",
       "0    317369.759557  \n",
       "1    313461.387438  \n",
       "2    315980.040042  \n",
       "3    316193.664142  \n",
       "4    316848.193716  \n",
       "..             ...  \n",
       "110  311380.687232  \n",
       "111  317300.236250  \n",
       "112  314685.621800  \n",
       "113  316722.386326  \n",
       "114  314801.489817  \n",
       "\n",
       "[115 rows x 5 columns]"
      ]
     },
     "execution_count": 19,
     "metadata": {},
     "output_type": "execute_result"
    }
   ],
   "source": [
    "df_drop2.reset_index(drop=True, inplace=True)\n",
    "df_drop2"
   ]
  },
  {
   "cell_type": "markdown",
   "metadata": {},
   "source": [
    "## 동, 위도, 경도 추출"
   ]
  },
  {
   "cell_type": "code",
   "execution_count": 20,
   "metadata": {},
   "outputs": [
    {
     "data": {
      "text/plain": [
       "소재지전체주소    0\n",
       "도로명전체주소    0\n",
       "사업장명       0\n",
       "좌표정보(x)    0\n",
       "좌표정보(y)    0\n",
       "dtype: int64"
      ]
     },
     "execution_count": 20,
     "metadata": {},
     "output_type": "execute_result"
    }
   ],
   "source": [
    "df_drop2.isnull().sum()"
   ]
  },
  {
   "cell_type": "markdown",
   "metadata": {},
   "source": [
    "위도와 경도는 전부 제공 중으로 동만 추출 진행"
   ]
  },
  {
   "cell_type": "code",
   "execution_count": 21,
   "metadata": {},
   "outputs": [
    {
     "data": {
      "text/html": [
       "<div>\n",
       "<style scoped>\n",
       "    .dataframe tbody tr th:only-of-type {\n",
       "        vertical-align: middle;\n",
       "    }\n",
       "\n",
       "    .dataframe tbody tr th {\n",
       "        vertical-align: top;\n",
       "    }\n",
       "\n",
       "    .dataframe thead th {\n",
       "        text-align: right;\n",
       "    }\n",
       "</style>\n",
       "<table border=\"1\" class=\"dataframe\">\n",
       "  <thead>\n",
       "    <tr style=\"text-align: right;\">\n",
       "      <th></th>\n",
       "      <th>소재지전체주소</th>\n",
       "      <th>도로명전체주소</th>\n",
       "      <th>사업장명</th>\n",
       "      <th>좌표정보(x)</th>\n",
       "      <th>좌표정보(y)</th>\n",
       "      <th>시</th>\n",
       "      <th>구</th>\n",
       "      <th>법정동</th>\n",
       "    </tr>\n",
       "  </thead>\n",
       "  <tbody>\n",
       "    <tr>\n",
       "      <th>0</th>\n",
       "      <td>대전광역시 유성구 봉명동 538-1 지상5,6,8층</td>\n",
       "      <td>대전광역시 유성구 계룡로113번길 76, 지상5,6,8층 (봉명동)</td>\n",
       "      <td>유성온천불가마사우나</td>\n",
       "      <td>230896.922887</td>\n",
       "      <td>317369.759557</td>\n",
       "      <td>대전광역시</td>\n",
       "      <td>NaN</td>\n",
       "      <td>NaN</td>\n",
       "    </tr>\n",
       "    <tr>\n",
       "      <th>1</th>\n",
       "      <td>대전광역시 중구 유천동 322-1 현암에버드림아파트 지하1층</td>\n",
       "      <td>대전광역시 중구 태평로44번길 27, 지하1층 (유천동, 현암에버드림아파트)</td>\n",
       "      <td>태평제일불가마사우나</td>\n",
       "      <td>235333.477746</td>\n",
       "      <td>313461.387438</td>\n",
       "      <td>대전광역시</td>\n",
       "      <td>NaN</td>\n",
       "      <td>NaN</td>\n",
       "    </tr>\n",
       "  </tbody>\n",
       "</table>\n",
       "</div>"
      ],
      "text/plain": [
       "                             소재지전체주소  \\\n",
       "0       대전광역시 유성구 봉명동 538-1 지상5,6,8층   \n",
       "1  대전광역시 중구 유천동 322-1 현암에버드림아파트 지하1층   \n",
       "\n",
       "                                      도로명전체주소        사업장명        좌표정보(x)  \\\n",
       "0       대전광역시 유성구 계룡로113번길 76, 지상5,6,8층 (봉명동)  유성온천불가마사우나  230896.922887   \n",
       "1  대전광역시 중구 태평로44번길 27, 지하1층 (유천동, 현암에버드림아파트)  태평제일불가마사우나  235333.477746   \n",
       "\n",
       "         좌표정보(y)      시   구  법정동  \n",
       "0  317369.759557  대전광역시 NaN  NaN  \n",
       "1  313461.387438  대전광역시 NaN  NaN  "
      ]
     },
     "execution_count": 21,
     "metadata": {},
     "output_type": "execute_result"
    }
   ],
   "source": [
    "df_drop2['시'] = '대전광역시'\n",
    "df_drop2['구'] = np.nan\n",
    "df_drop2['법정동'] = np.nan\n",
    "\n",
    "df_drop2.head(2)"
   ]
  },
  {
   "cell_type": "markdown",
   "metadata": {},
   "source": [
    "대전광역시, 공백, **구, 공백, **동 형태"
   ]
  },
  {
   "cell_type": "code",
   "execution_count": 22,
   "metadata": {},
   "outputs": [],
   "source": [
    "df_split = df_drop2\n",
    "\n",
    "# 공백으로 소재지전체주소 분리\n",
    "df_split['구'] = df_split.소재지전체주소.str.split(' ').str[1] \n",
    "df_split['법정동'] = df_split.소재지전체주소.str.split(' ').str[2]"
   ]
  },
  {
   "cell_type": "code",
   "execution_count": 23,
   "metadata": {},
   "outputs": [
    {
     "name": "stdout",
     "output_type": "stream",
     "text": [
      "['유성구' '중구' '동구' '서구' '대덕구'] 5\n",
      "['봉명동' '유천동' '자양동' '홍도동' '용전동' '용운동' '가오동' '성남동' '원동' '대동' '대별동' '삼성동'\n",
      " '인동' '가양동' '대성동' '대흥동' '문창동' '용두동' '문화동' '오류동' '선화동' '중촌동' '사정동' '태평동'\n",
      " '산성동' '대사동' '석교동' '옥계동' '신성동' '장대동' '원내동' '도룡동' '지족동' '노은동' '관평동' '둔산동'\n",
      " '중리동' '오정동' '법동' '대화동' '비래동' '석봉동' '신탄진동' '송촌동' '목상동' '관저동' '탄방동' '갈마동'\n",
      " '정림동' '용문동' '가수원동' '괴정동' '변동' '평촌동' '월평동' '도마동' '만년동' '가장동' '복수동'] 59\n"
     ]
    }
   ],
   "source": [
    "# 구, 법정동 정보가 정상적으로 분리됐는지 확인\n",
    "print(df_split['구'].unique(), df_split['구'].nunique())\n",
    "print(df_split['법정동'].unique(), df_split['법정동'].nunique())"
   ]
  },
  {
   "cell_type": "code",
   "execution_count": 24,
   "metadata": {},
   "outputs": [
    {
     "data": {
      "text/html": [
       "<div>\n",
       "<style scoped>\n",
       "    .dataframe tbody tr th:only-of-type {\n",
       "        vertical-align: middle;\n",
       "    }\n",
       "\n",
       "    .dataframe tbody tr th {\n",
       "        vertical-align: top;\n",
       "    }\n",
       "\n",
       "    .dataframe thead th {\n",
       "        text-align: right;\n",
       "    }\n",
       "</style>\n",
       "<table border=\"1\" class=\"dataframe\">\n",
       "  <thead>\n",
       "    <tr style=\"text-align: right;\">\n",
       "      <th></th>\n",
       "      <th>소재지전체주소</th>\n",
       "      <th>도로명전체주소</th>\n",
       "      <th>사업장명</th>\n",
       "      <th>좌표정보(x)</th>\n",
       "      <th>좌표정보(y)</th>\n",
       "      <th>시</th>\n",
       "      <th>구</th>\n",
       "      <th>법정동</th>\n",
       "    </tr>\n",
       "  </thead>\n",
       "  <tbody>\n",
       "    <tr>\n",
       "      <th>0</th>\n",
       "      <td>대전광역시 유성구 봉명동 538-1 지상5,6,8층</td>\n",
       "      <td>대전광역시 유성구 계룡로113번길 76, 지상5,6,8층 (봉명동)</td>\n",
       "      <td>유성온천불가마사우나</td>\n",
       "      <td>230896.922887</td>\n",
       "      <td>317369.759557</td>\n",
       "      <td>대전광역시</td>\n",
       "      <td>유성구</td>\n",
       "      <td>봉명동</td>\n",
       "    </tr>\n",
       "    <tr>\n",
       "      <th>1</th>\n",
       "      <td>대전광역시 중구 유천동 322-1 현암에버드림아파트 지하1층</td>\n",
       "      <td>대전광역시 중구 태평로44번길 27, 지하1층 (유천동, 현암에버드림아파트)</td>\n",
       "      <td>태평제일불가마사우나</td>\n",
       "      <td>235333.477746</td>\n",
       "      <td>313461.387438</td>\n",
       "      <td>대전광역시</td>\n",
       "      <td>중구</td>\n",
       "      <td>유천동</td>\n",
       "    </tr>\n",
       "  </tbody>\n",
       "</table>\n",
       "</div>"
      ],
      "text/plain": [
       "                             소재지전체주소  \\\n",
       "0       대전광역시 유성구 봉명동 538-1 지상5,6,8층   \n",
       "1  대전광역시 중구 유천동 322-1 현암에버드림아파트 지하1층   \n",
       "\n",
       "                                      도로명전체주소        사업장명        좌표정보(x)  \\\n",
       "0       대전광역시 유성구 계룡로113번길 76, 지상5,6,8층 (봉명동)  유성온천불가마사우나  230896.922887   \n",
       "1  대전광역시 중구 태평로44번길 27, 지하1층 (유천동, 현암에버드림아파트)  태평제일불가마사우나  235333.477746   \n",
       "\n",
       "         좌표정보(y)      시    구  법정동  \n",
       "0  317369.759557  대전광역시  유성구  봉명동  \n",
       "1  313461.387438  대전광역시   중구  유천동  "
      ]
     },
     "execution_count": 24,
     "metadata": {},
     "output_type": "execute_result"
    }
   ],
   "source": [
    "df_split.head(2)"
   ]
  },
  {
   "cell_type": "markdown",
   "metadata": {},
   "source": [
    "### 컬럼 정렬"
   ]
  },
  {
   "cell_type": "code",
   "execution_count": 25,
   "metadata": {},
   "outputs": [
    {
     "data": {
      "text/html": [
       "<div>\n",
       "<style scoped>\n",
       "    .dataframe tbody tr th:only-of-type {\n",
       "        vertical-align: middle;\n",
       "    }\n",
       "\n",
       "    .dataframe tbody tr th {\n",
       "        vertical-align: top;\n",
       "    }\n",
       "\n",
       "    .dataframe thead th {\n",
       "        text-align: right;\n",
       "    }\n",
       "</style>\n",
       "<table border=\"1\" class=\"dataframe\">\n",
       "  <thead>\n",
       "    <tr style=\"text-align: right;\">\n",
       "      <th></th>\n",
       "      <th>시</th>\n",
       "      <th>구</th>\n",
       "      <th>법정동</th>\n",
       "      <th>사업장명</th>\n",
       "      <th>소재지전체주소</th>\n",
       "      <th>도로명전체주소</th>\n",
       "      <th>좌표정보(x)</th>\n",
       "      <th>좌표정보(y)</th>\n",
       "    </tr>\n",
       "  </thead>\n",
       "  <tbody>\n",
       "    <tr>\n",
       "      <th>0</th>\n",
       "      <td>대전광역시</td>\n",
       "      <td>유성구</td>\n",
       "      <td>봉명동</td>\n",
       "      <td>유성온천불가마사우나</td>\n",
       "      <td>대전광역시 유성구 봉명동 538-1 지상5,6,8층</td>\n",
       "      <td>대전광역시 유성구 계룡로113번길 76, 지상5,6,8층 (봉명동)</td>\n",
       "      <td>230896.922887</td>\n",
       "      <td>317369.759557</td>\n",
       "    </tr>\n",
       "    <tr>\n",
       "      <th>1</th>\n",
       "      <td>대전광역시</td>\n",
       "      <td>중구</td>\n",
       "      <td>유천동</td>\n",
       "      <td>태평제일불가마사우나</td>\n",
       "      <td>대전광역시 중구 유천동 322-1 현암에버드림아파트 지하1층</td>\n",
       "      <td>대전광역시 중구 태평로44번길 27, 지하1층 (유천동, 현암에버드림아파트)</td>\n",
       "      <td>235333.477746</td>\n",
       "      <td>313461.387438</td>\n",
       "    </tr>\n",
       "    <tr>\n",
       "      <th>2</th>\n",
       "      <td>대전광역시</td>\n",
       "      <td>동구</td>\n",
       "      <td>자양동</td>\n",
       "      <td>행복한목욕탕</td>\n",
       "      <td>대전광역시 동구 자양동 173-7번지</td>\n",
       "      <td>대전광역시 동구 충정로 115-4 (자양동)</td>\n",
       "      <td>240428.945786</td>\n",
       "      <td>315980.040042</td>\n",
       "    </tr>\n",
       "    <tr>\n",
       "      <th>3</th>\n",
       "      <td>대전광역시</td>\n",
       "      <td>동구</td>\n",
       "      <td>홍도동</td>\n",
       "      <td>일웅스파렌드</td>\n",
       "      <td>대전광역시 동구 홍도동 64-2 ,4,5</td>\n",
       "      <td>대전광역시 동구 동서대로 1605 (홍도동)</td>\n",
       "      <td>238468.907628</td>\n",
       "      <td>316193.664142</td>\n",
       "    </tr>\n",
       "    <tr>\n",
       "      <th>4</th>\n",
       "      <td>대전광역시</td>\n",
       "      <td>동구</td>\n",
       "      <td>용전동</td>\n",
       "      <td>정암게르마늄사우나</td>\n",
       "      <td>대전광역시 동구 용전동 133-1번지</td>\n",
       "      <td>대전광역시 동구 계족로 448 (용전동)</td>\n",
       "      <td>238764.480059</td>\n",
       "      <td>316848.193716</td>\n",
       "    </tr>\n",
       "  </tbody>\n",
       "</table>\n",
       "</div>"
      ],
      "text/plain": [
       "       시    구  법정동        사업장명                            소재지전체주소  \\\n",
       "0  대전광역시  유성구  봉명동  유성온천불가마사우나       대전광역시 유성구 봉명동 538-1 지상5,6,8층   \n",
       "1  대전광역시   중구  유천동  태평제일불가마사우나  대전광역시 중구 유천동 322-1 현암에버드림아파트 지하1층   \n",
       "2  대전광역시   동구  자양동      행복한목욕탕               대전광역시 동구 자양동 173-7번지   \n",
       "3  대전광역시   동구  홍도동      일웅스파렌드             대전광역시 동구 홍도동 64-2 ,4,5   \n",
       "4  대전광역시   동구  용전동   정암게르마늄사우나               대전광역시 동구 용전동 133-1번지   \n",
       "\n",
       "                                      도로명전체주소        좌표정보(x)        좌표정보(y)  \n",
       "0       대전광역시 유성구 계룡로113번길 76, 지상5,6,8층 (봉명동)  230896.922887  317369.759557  \n",
       "1  대전광역시 중구 태평로44번길 27, 지하1층 (유천동, 현암에버드림아파트)  235333.477746  313461.387438  \n",
       "2                    대전광역시 동구 충정로 115-4 (자양동)  240428.945786  315980.040042  \n",
       "3                    대전광역시 동구 동서대로 1605 (홍도동)  238468.907628  316193.664142  \n",
       "4                      대전광역시 동구 계족로 448 (용전동)  238764.480059  316848.193716  "
      ]
     },
     "execution_count": 25,
     "metadata": {},
     "output_type": "execute_result"
    }
   ],
   "source": [
    "df = df_split[['시', '구', '법정동', '사업장명','소재지전체주소', '도로명전체주소', '좌표정보(x)', '좌표정보(y)']]\n",
    "df.head()"
   ]
  },
  {
   "cell_type": "code",
   "execution_count": 26,
   "metadata": {},
   "outputs": [
    {
     "data": {
      "text/plain": [
       "(115, 8)"
      ]
     },
     "execution_count": 26,
     "metadata": {},
     "output_type": "execute_result"
    }
   ],
   "source": [
    "df.shape"
   ]
  },
  {
   "cell_type": "markdown",
   "metadata": {},
   "source": [
    "## 데이터프레임으로 저장"
   ]
  },
  {
   "cell_type": "code",
   "execution_count": 36,
   "metadata": {},
   "outputs": [
    {
     "name": "stdout",
     "output_type": "stream",
     "text": [
      "['봉명동' '유천동' '자양동' '홍도동' '용전동' '용운동' '가오동' '성남동' '원동' '대동' '대별동' '삼성동'\n",
      " '인동' '가양동' '대성동' '대흥동' '문창동' '용두동' '문화동' '오류동' '선화동' '중촌동' '사정동' '태평동'\n",
      " '산성동' '대사동' '석교동' '옥계동' '신성동' '장대동' '원내동' '도룡동' '지족동' '노은동' '관평동' '둔산동'\n",
      " '중리동' '오정동' '법동' '대화동' '비래동' '석봉동' '신탄진동' '송촌동' '목상동' '관저동' '탄방동' '갈마동'\n",
      " '정림동' '용문동' '가수원동' '괴정동' '변동' '평촌동' '월평동' '도마동' '만년동' '가장동' '복수동'] 115\n"
     ]
    }
   ],
   "source": [
    "print(df['법정동'].unique(), df['법정동'].count())"
   ]
  },
  {
   "cell_type": "code",
   "execution_count": 37,
   "metadata": {},
   "outputs": [],
   "source": [
    "df.to_csv(PATH + '목욕장_장병용_전처리완료.csv', index=False, encoding='cp949')"
   ]
  }
 ],
 "metadata": {
  "kernelspec": {
   "display_name": "Python 3.9.12 ('base')",
   "language": "python",
   "name": "python3"
  },
  "language_info": {
   "codemirror_mode": {
    "name": "ipython",
    "version": 3
   },
   "file_extension": ".py",
   "mimetype": "text/x-python",
   "name": "python",
   "nbconvert_exporter": "python",
   "pygments_lexer": "ipython3",
   "version": "3.9.12"
  },
  "orig_nbformat": 4,
  "vscode": {
   "interpreter": {
    "hash": "896d485471ef941b4e0dc2f1af8b03ec2dc25069dec27f5ae64c0e01f5fa1c8f"
   }
  }
 },
 "nbformat": 4,
 "nbformat_minor": 2
}
